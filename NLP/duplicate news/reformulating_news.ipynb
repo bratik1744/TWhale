{
 "cells": [
  {
   "cell_type": "code",
   "execution_count": null,
   "metadata": {},
   "outputs": [],
   "source": [
    "from tqdm import tqdm\n",
    "import pandas as pd\n",
    "from langchain.schema import HumanMessage, SystemMessage\n",
    "from langchain.chat_models.gigachat import GigaChat"
   ]
  },
  {
   "cell_type": "code",
   "execution_count": null,
   "metadata": {},
   "outputs": [],
   "source": [
    "df = pd.read_csv(\"news.csv\")"
   ]
  },
  {
   "cell_type": "code",
   "execution_count": null,
   "metadata": {},
   "outputs": [],
   "source": [
    "df_new = pd.DataFrame(columns=[\"url\", \"title_origin\", \"body_origin\", \n",
    "                               \"title_fake_1\", \"title_fake_2\", \"title_fake_3\", \n",
    "                               \"body_fake_1\", \"body_fake_2\", \"body_fake_3\"])\n",
    "df_new"
   ]
  },
  {
   "cell_type": "code",
   "execution_count": null,
   "metadata": {},
   "outputs": [],
   "source": [
    "autorizathion_data_gigachat = \"\""
   ]
  },
  {
   "cell_type": "code",
   "execution_count": null,
   "metadata": {},
   "outputs": [],
   "source": [
    "chat = GigaChat(credentials=autorizathion_data_gigachat, verify_ssl_certs=False)"
   ]
  },
  {
   "cell_type": "code",
   "execution_count": null,
   "metadata": {},
   "outputs": [],
   "source": [
    "messages = []"
   ]
  },
  {
   "cell_type": "code",
   "execution_count": null,
   "metadata": {},
   "outputs": [],
   "source": [
    "s = 'перефразируй этот текст, его смысл должен остаться таким же:\\n'"
   ]
  },
  {
   "cell_type": "code",
   "execution_count": null,
   "metadata": {},
   "outputs": [],
   "source": [
    "for n in tqdm(range(1, 501)):\n",
    "    url = df.loc[n].url\n",
    "    title_origin = df.loc[n].title\n",
    "    body_origin = df.loc[n].body\n",
    "\n",
    "\n",
    "    title_fake_1 = chat([HumanMessage(content=s + f'\"{title_origin}\"')]).content\n",
    "    title_fake_2 = chat([HumanMessage(content=s + f'\"{title_origin}\"')]).content\n",
    "    title_fake_3 = chat([HumanMessage(content=s + f'\"{title_origin}\"')]).content\n",
    "\n",
    "    body_fake_1 = chat([HumanMessage(content=s + f'\"{body_origin}\"')]).content\n",
    "    body_fake_2 = chat([HumanMessage(content=s + f'\"{body_origin}\"')]).content\n",
    "    body_fake_3 = chat([HumanMessage(content=s + f'\"{body_origin}\"')]).content\n",
    "\n",
    "    df_new.loc[len(df_new.index)] = [url, title_origin, body_origin, \n",
    "                               title_fake_1, title_fake_2, title_fake_3, \n",
    "                               body_fake_1, body_fake_2, body_fake_3]\n",
    "    "
   ]
  },
  {
   "cell_type": "code",
   "execution_count": null,
   "metadata": {},
   "outputs": [],
   "source": [
    "df_new.isnull().sum()"
   ]
  },
  {
   "cell_type": "code",
   "execution_count": null,
   "metadata": {},
   "outputs": [],
   "source": [
    "df_new.to_csv(\"origin_fake.csv\", index=False)"
   ]
  }
 ],
 "metadata": {
  "kernelspec": {
   "display_name": "base",
   "language": "python",
   "name": "python3"
  },
  "language_info": {
   "codemirror_mode": {
    "name": "ipython",
    "version": 3
   },
   "file_extension": ".py",
   "mimetype": "text/x-python",
   "name": "python",
   "nbconvert_exporter": "python",
   "pygments_lexer": "ipython3",
   "version": "3.11.3"
  }
 },
 "nbformat": 4,
 "nbformat_minor": 2
}
